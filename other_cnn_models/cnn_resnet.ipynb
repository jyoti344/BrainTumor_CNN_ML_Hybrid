{
 "cells": [
  {
   "cell_type": "code",
   "execution_count": 1,
   "id": "528d1fd8-3c81-4461-b581-4d3458093e7e",
   "metadata": {},
   "outputs": [],
   "source": [
    "import numpy as np\n",
    "from tensorflow.keras.applications import ResNet50\n",
    "from tensorflow.keras.preprocessing.image import ImageDataGenerator\n",
    "from tensorflow.keras.models import Model\n",
    "from sklearn.decomposition import PCA\n",
    "from sklearn.svm import SVC\n",
    "from sklearn.metrics import accuracy_score,precision_score,f1_score,recall_score"
   ]
  },
  {
   "cell_type": "code",
   "execution_count": 2,
   "id": "43bd8a9f-e7f6-493d-bef8-ccfa3854d97e",
   "metadata": {},
   "outputs": [],
   "source": [
    "train_dir = 'C:/Users/Jyoti Prakash Dhala/OneDrive/Desktop/brain_tumer_dataset/Training'\n",
    "test_dir = 'C:/Users/Jyoti Prakash Dhala/OneDrive/Desktop/brain_tumer_dataset/Testing'"
   ]
  },
  {
   "cell_type": "code",
   "execution_count": 3,
   "id": "9002facc-e287-49c5-8153-d2a56d17ac93",
   "metadata": {},
   "outputs": [],
   "source": [
    "img_size = (224, 224)\n",
    "batch_size = 16"
   ]
  },
  {
   "cell_type": "code",
   "execution_count": 4,
   "id": "94a9843a-f305-4066-931c-9e4fc7feea4d",
   "metadata": {},
   "outputs": [],
   "source": [
    "datagen = ImageDataGenerator(rescale=1./255)"
   ]
  },
  {
   "cell_type": "code",
   "execution_count": 5,
   "id": "c4784957-035f-462f-ab92-3a52096b9ecc",
   "metadata": {},
   "outputs": [
    {
     "name": "stdout",
     "output_type": "stream",
     "text": [
      "Found 5712 images belonging to 4 classes.\n"
     ]
    }
   ],
   "source": [
    "\n",
    "train_gen = datagen.flow_from_directory(\n",
    "    train_dir,\n",
    "    target_size=img_size,\n",
    "    batch_size=batch_size,\n",
    "    class_mode='categorical',\n",
    "    shuffle=False\n",
    ")"
   ]
  },
  {
   "cell_type": "code",
   "execution_count": 6,
   "id": "6428069d-5307-4bb2-a044-098345c8000c",
   "metadata": {},
   "outputs": [
    {
     "name": "stdout",
     "output_type": "stream",
     "text": [
      "Found 1311 images belonging to 4 classes.\n"
     ]
    }
   ],
   "source": [
    "test_gen = datagen.flow_from_directory(\n",
    "    test_dir,\n",
    "    target_size=img_size,\n",
    "    batch_size=batch_size,\n",
    "    class_mode='categorical',\n",
    "    shuffle=False\n",
    ")"
   ]
  },
  {
   "cell_type": "code",
   "execution_count": 7,
   "id": "739d14f7-60c2-4d34-9477-a00f3986f173",
   "metadata": {},
   "outputs": [],
   "source": [
    "base_model = ResNet50(weights='imagenet', include_top=False, input_shape=(224,224,3))"
   ]
  },
  {
   "cell_type": "code",
   "execution_count": 8,
   "id": "c0ddb44d-0658-4ce9-ba81-e9af5fea7133",
   "metadata": {},
   "outputs": [],
   "source": [
    "model = Model(inputs=base_model.input, outputs=base_model.output)"
   ]
  },
  {
   "cell_type": "code",
   "execution_count": 9,
   "id": "e56b76f1-24c8-4d69-b27b-0c59b6966012",
   "metadata": {},
   "outputs": [],
   "source": [
    "from tqdm import tqdm  \n",
    "def extract_features_batchwise(model, generator):\n",
    "    features_list = []\n",
    "    steps = len(generator)\n",
    "    for i in tqdm(range(steps)):\n",
    "        x, _ = generator[i]\n",
    "        features = model.predict(x, verbose=0)\n",
    "        features_list.append(features)\n",
    "    features_array = np.vstack(features_list)\n",
    "    return features_array"
   ]
  },
  {
   "cell_type": "code",
   "execution_count": 10,
   "id": "232787cd-e0e7-4b55-bf6a-1b3deabae436",
   "metadata": {},
   "outputs": [
    {
     "name": "stderr",
     "output_type": "stream",
     "text": [
      "100%|████████████████████████████████████████████████████████████████████████████████| 357/357 [08:52<00:00,  1.49s/it]\n",
      "100%|██████████████████████████████████████████████████████████████████████████████████| 82/82 [02:07<00:00,  1.55s/it]\n"
     ]
    }
   ],
   "source": [
    "X_train = extract_features_batchwise(model, train_gen)\n",
    "X_test = extract_features_batchwise(model, test_gen)"
   ]
  },
  {
   "cell_type": "code",
   "execution_count": 11,
   "id": "88f8f550-4097-4ec6-8573-0e98553b5b77",
   "metadata": {},
   "outputs": [],
   "source": [
    "X_train = X_train.reshape(X_train.shape[0], -1)\n",
    "X_test = X_test.reshape(X_test.shape[0], -1)"
   ]
  },
  {
   "cell_type": "code",
   "execution_count": 12,
   "id": "5228689a-5a2c-4898-9786-7c8c6fed9cee",
   "metadata": {},
   "outputs": [
    {
     "name": "stdout",
     "output_type": "stream",
     "text": [
      "(5712, 100352)\n",
      "(1311, 100352)\n"
     ]
    }
   ],
   "source": [
    "print(X_train.shape)\n",
    "print(X_test.shape)"
   ]
  },
  {
   "cell_type": "code",
   "execution_count": 13,
   "id": "4d37948e-a76f-4871-b938-3977a44ca601",
   "metadata": {},
   "outputs": [],
   "source": [
    "pca = PCA(n_components=500)\n",
    "X_train_pca = pca.fit_transform(X_train)\n",
    "X_test_pca = pca.transform(X_test)"
   ]
  },
  {
   "cell_type": "code",
   "execution_count": 14,
   "id": "1b77b01d-0d4b-43bc-839c-8b1be263f078",
   "metadata": {},
   "outputs": [],
   "source": [
    "y_train = train_gen.classes\n",
    "y_test = test_gen.classes"
   ]
  },
  {
   "cell_type": "code",
   "execution_count": 15,
   "id": "dd8def8c-f529-42df-97a5-0cafc0d1e867",
   "metadata": {},
   "outputs": [],
   "source": [
    "svm = SVC(kernel='rbf', C=1, gamma='scale')\n",
    "svm.fit(X_train_pca, y_train)\n",
    "y_pred = svm.predict(X_test_pca)"
   ]
  },
  {
   "cell_type": "code",
   "execution_count": 16,
   "id": "8c4bf70d-35b6-4cd0-a4a3-e4e543f90b6f",
   "metadata": {},
   "outputs": [
    {
     "name": "stdout",
     "output_type": "stream",
     "text": [
      "accuracy: 0.8527841342486652\n",
      "precision: 0.8426976685923079\n",
      "recall: 0.8436746550472041\n",
      "f1_score: 0.8415964174045755\n"
     ]
    }
   ],
   "source": [
    "print('accuracy:',accuracy_score(y_test, y_pred))\n",
    "print('precision:',precision_score(y_test, y_pred, average='macro'))\n",
    "print('recall:',recall_score(y_test, y_pred, average='macro'))\n",
    "print('f1_score:',f1_score(y_test, y_pred, average='macro'))"
   ]
  },
  {
   "cell_type": "code",
   "execution_count": 17,
   "id": "a43bc65d-50ae-4e09-bc3f-ad93803cd818",
   "metadata": {},
   "outputs": [],
   "source": [
    "from sklearn.ensemble import RandomForestClassifier\n",
    "from sklearn.linear_model import LogisticRegression\n",
    "import xgboost as xgb\n",
    "from sklearn.neighbors import KNeighborsClassifier"
   ]
  },
  {
   "cell_type": "code",
   "execution_count": 18,
   "id": "d40c00d4-dbaa-497f-91b1-8d2ad8081a66",
   "metadata": {},
   "outputs": [],
   "source": [
    "rf = RandomForestClassifier(n_estimators=200, random_state=42)\n",
    "rf.fit(X_train_pca, y_train)\n",
    "y_pred_rf = rf.predict(X_test_pca)"
   ]
  },
  {
   "cell_type": "code",
   "execution_count": 19,
   "id": "cf69f158-bc6e-4547-badf-6406c1d20214",
   "metadata": {},
   "outputs": [
    {
     "name": "stdout",
     "output_type": "stream",
     "text": [
      "accuracy: 0.9115179252479023\n",
      "precision: 0.9063480906276342\n",
      "recall: 0.9044680464778505\n",
      "f1_score: 0.9039204859825534\n"
     ]
    }
   ],
   "source": [
    "print('accuracy:',accuracy_score(y_test, y_pred_rf))\n",
    "print('precision:',precision_score(y_test, y_pred_rf, average='macro'))\n",
    "print('recall:',recall_score(y_test, y_pred_rf, average='macro'))\n",
    "print('f1_score:',f1_score(y_test, y_pred_rf, average='macro'))"
   ]
  },
  {
   "cell_type": "code",
   "execution_count": 20,
   "id": "f1e28877-956e-4848-a7b1-0c740733ce3c",
   "metadata": {},
   "outputs": [
    {
     "name": "stderr",
     "output_type": "stream",
     "text": [
      "D:\\python\\Lib\\site-packages\\sklearn\\linear_model\\_logistic.py:1272: FutureWarning: 'multi_class' was deprecated in version 1.5 and will be removed in 1.8. From then on, it will always use 'multinomial'. Leave it to its default value to avoid this warning.\n",
      "  warnings.warn(\n"
     ]
    }
   ],
   "source": [
    "lr = LogisticRegression(max_iter=1000, multi_class='multinomial')\n",
    "lr.fit(X_train_pca, y_train)\n",
    "y_pred_lr = lr.predict(X_test_pca)"
   ]
  },
  {
   "cell_type": "code",
   "execution_count": 21,
   "id": "f8267230-e8b8-4f7b-a6ec-30f4054d760f",
   "metadata": {},
   "outputs": [
    {
     "name": "stdout",
     "output_type": "stream",
     "text": [
      "accuracy: 0.9115179252479023\n",
      "precision: 0.9043051380037362\n",
      "recall: 0.9042156862745099\n",
      "f1_score: 0.9041626997430612\n"
     ]
    }
   ],
   "source": [
    "print('accuracy:',accuracy_score(y_test, y_pred_lr))\n",
    "print('precision:',precision_score(y_test, y_pred_lr, average='macro'))\n",
    "print('recall:',recall_score(y_test, y_pred_lr, average='macro'))\n",
    "print('f1_score:',f1_score(y_test, y_pred_lr, average='macro'))"
   ]
  },
  {
   "cell_type": "code",
   "execution_count": 22,
   "id": "b92845a5-9767-412c-ade5-6bbb17d58867",
   "metadata": {},
   "outputs": [],
   "source": [
    "xgb_clf = xgb.XGBClassifier(objective='multi:softmax', num_class=4, eval_metric='mlogloss')\n",
    "xgb_clf.fit(X_train_pca, y_train)\n",
    "y_pred_xgb = xgb_clf.predict(X_test_pca)"
   ]
  },
  {
   "cell_type": "code",
   "execution_count": 23,
   "id": "6cb0ceb5-f948-47ca-9e66-85a84af69609",
   "metadata": {},
   "outputs": [
    {
     "name": "stdout",
     "output_type": "stream",
     "text": [
      "accuracy: 0.9344012204424104\n",
      "precision: 0.9299941678113106\n",
      "recall: 0.9289052287581698\n",
      "f1_score: 0.928861857473618\n"
     ]
    }
   ],
   "source": [
    "print('accuracy:',accuracy_score(y_test, y_pred_xgb))\n",
    "print('precision:',precision_score(y_test, y_pred_xgb, average='macro'))\n",
    "print('recall:',recall_score(y_test, y_pred_xgb, average='macro'))\n",
    "print('f1_score:',f1_score(y_test, y_pred_xgb, average='macro'))"
   ]
  },
  {
   "cell_type": "code",
   "execution_count": 24,
   "id": "31387951-c9e8-4149-82a6-215f3838f303",
   "metadata": {},
   "outputs": [],
   "source": [
    "knn = KNeighborsClassifier(n_neighbors=5)\n",
    "knn.fit(X_train_pca, y_train)\n",
    "y_pred_knn = knn.predict(X_test_pca)"
   ]
  },
  {
   "cell_type": "code",
   "execution_count": 25,
   "id": "43029a26-9fba-4c85-a2bb-c1ea77af2280",
   "metadata": {},
   "outputs": [
    {
     "name": "stdout",
     "output_type": "stream",
     "text": [
      "accuracy: 0.8916857360793288\n",
      "precision: 0.8888183637564431\n",
      "recall: 0.8870588235294118\n",
      "f1_score: 0.8850976953248978\n"
     ]
    }
   ],
   "source": [
    "print('accuracy:',accuracy_score(y_test, y_pred_knn))\n",
    "print('precision:',precision_score(y_test, y_pred_knn, average='macro'))\n",
    "print('recall:',recall_score(y_test, y_pred_knn, average='macro'))\n",
    "print('f1_score:',f1_score(y_test, y_pred_knn, average='macro'))"
   ]
  },
  {
   "cell_type": "code",
   "execution_count": 26,
   "id": "16b13b76-e875-491e-83c8-a4da90643dc5",
   "metadata": {},
   "outputs": [
    {
     "name": "stdout",
     "output_type": "stream",
     "text": [
      "[LightGBM] [Info] Auto-choosing col-wise multi-threading, the overhead of testing was 0.044264 seconds.\n",
      "You can set `force_col_wise=true` to remove the overhead.\n",
      "[LightGBM] [Info] Total Bins 127500\n",
      "[LightGBM] [Info] Number of data points in the train set: 5712, number of used features: 500\n",
      "[LightGBM] [Info] Start training from score -1.464180\n",
      "[LightGBM] [Info] Start training from score -1.450646\n",
      "[LightGBM] [Info] Start training from score -1.275695\n",
      "[LightGBM] [Info] Start training from score -1.366190\n"
     ]
    },
    {
     "name": "stderr",
     "output_type": "stream",
     "text": [
      "D:\\python\\Lib\\site-packages\\sklearn\\utils\\validation.py:2749: UserWarning: X does not have valid feature names, but LGBMClassifier was fitted with feature names\n",
      "  warnings.warn(\n"
     ]
    }
   ],
   "source": [
    "import lightgbm as lgb\n",
    "lgb_clf = lgb.LGBMClassifier(objective='multiclass', num_class=4)\n",
    "lgb_clf.fit(X_train_pca, y_train)\n",
    "y_pred_light = lgb_clf.predict(X_test_pca)"
   ]
  },
  {
   "cell_type": "code",
   "execution_count": 27,
   "id": "5ab3bc25-9d39-4b67-8b4d-54086776f676",
   "metadata": {},
   "outputs": [
    {
     "name": "stdout",
     "output_type": "stream",
     "text": [
      "accuracy: 0.9328756674294432\n",
      "precision: 0.9293153161933029\n",
      "recall: 0.9271732026143791\n",
      "f1_score: 0.9269483336579727\n"
     ]
    }
   ],
   "source": [
    "print('accuracy:',accuracy_score(y_test, y_pred_light))\n",
    "print('precision:',precision_score(y_test, y_pred_light, average='macro'))\n",
    "print('recall:',recall_score(y_test, y_pred_light, average='macro'))\n",
    "print('f1_score:',f1_score(y_test, y_pred_light, average='macro'))"
   ]
  },
  {
   "cell_type": "code",
   "execution_count": null,
   "id": "5367814e-e704-4e92-82e3-1576012d25c1",
   "metadata": {},
   "outputs": [],
   "source": []
  }
 ],
 "metadata": {
  "kernelspec": {
   "display_name": "Python 3 (ipykernel)",
   "language": "python",
   "name": "python3"
  },
  "language_info": {
   "codemirror_mode": {
    "name": "ipython",
    "version": 3
   },
   "file_extension": ".py",
   "mimetype": "text/x-python",
   "name": "python",
   "nbconvert_exporter": "python",
   "pygments_lexer": "ipython3",
   "version": "3.11.0"
  }
 },
 "nbformat": 4,
 "nbformat_minor": 5
}
