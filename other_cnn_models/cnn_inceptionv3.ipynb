{
 "cells": [
  {
   "cell_type": "markdown",
   "id": "810befbb-0f97-44a5-89f0-81ceda4f3291",
   "metadata": {},
   "source": [
    "##### import numpy as np\n",
    "from tensorflow.keras.applications import InceptionV3\n",
    "from tensorflow.keras.preprocessing.image import ImageDataGenerator\n",
    "from tensorflow.keras.models import Model\n",
    "from sklearn.decomposition import PCA\n",
    "from sklearn.svm import SVC\n",
    "from sklearn.metrics import accuracy_score,precision_score,f1_score,recall_score"
   ]
  },
  {
   "cell_type": "code",
   "execution_count": 2,
   "id": "b5a6ab75-00f3-4e36-9e49-3d63471ede3a",
   "metadata": {},
   "outputs": [],
   "source": [
    "train_dir = 'C:/Users/Jyoti Prakash Dhala/OneDrive/Desktop/brain_tumer_dataset/Training'\n",
    "test_dir = 'C:/Users/Jyoti Prakash Dhala/OneDrive/Desktop/brain_tumer_dataset/Testing'"
   ]
  },
  {
   "cell_type": "code",
   "execution_count": 3,
   "id": "a4d065f7-3b29-4460-9b5d-87bad560e2b9",
   "metadata": {},
   "outputs": [],
   "source": [
    "img_size = (224, 224)\n",
    "batch_size = 16"
   ]
  },
  {
   "cell_type": "code",
   "execution_count": 4,
   "id": "bc862389-4c35-4064-8b61-4916c8ea6526",
   "metadata": {},
   "outputs": [],
   "source": [
    "datagen = ImageDataGenerator(rescale=1./255)"
   ]
  },
  {
   "cell_type": "code",
   "execution_count": 5,
   "id": "4910d86d-0207-48ff-a5b2-3bb9db191670",
   "metadata": {},
   "outputs": [
    {
     "name": "stdout",
     "output_type": "stream",
     "text": [
      "Found 5712 images belonging to 4 classes.\n"
     ]
    }
   ],
   "source": [
    "\n",
    "train_gen = datagen.flow_from_directory(\n",
    "    train_dir,\n",
    "    target_size=img_size,\n",
    "    batch_size=batch_size,\n",
    "    class_mode='categorical',\n",
    "    shuffle=False\n",
    ")"
   ]
  },
  {
   "cell_type": "code",
   "execution_count": 6,
   "id": "b4aa4102-f9c5-48b8-9663-91bcf66a788b",
   "metadata": {},
   "outputs": [
    {
     "name": "stdout",
     "output_type": "stream",
     "text": [
      "Found 1311 images belonging to 4 classes.\n"
     ]
    }
   ],
   "source": [
    "test_gen = datagen.flow_from_directory(\n",
    "    test_dir,\n",
    "    target_size=img_size,\n",
    "    batch_size=batch_size,\n",
    "    class_mode='categorical',\n",
    "    shuffle=False\n",
    ")"
   ]
  },
  {
   "cell_type": "code",
   "execution_count": 7,
   "id": "8d839ddc-b64f-4fe1-af16-ba6ceb332482",
   "metadata": {},
   "outputs": [],
   "source": [
    "base_model = InceptionV3(weights='imagenet', include_top=False, input_shape=(224,224,3))"
   ]
  },
  {
   "cell_type": "code",
   "execution_count": 8,
   "id": "5aaa3f72-7e42-479c-9f00-62bdb75ef10f",
   "metadata": {},
   "outputs": [],
   "source": [
    "model = Model(inputs=base_model.input, outputs=base_model.output)"
   ]
  },
  {
   "cell_type": "code",
   "execution_count": 9,
   "id": "578c554c-5138-4f9c-a86e-8e47315f0204",
   "metadata": {},
   "outputs": [],
   "source": [
    "from tqdm import tqdm  \n",
    "def extract_features_batchwise(model, generator):\n",
    "    features_list = []\n",
    "    steps = len(generator)\n",
    "    for i in tqdm(range(steps)):\n",
    "        x, _ = generator[i]\n",
    "        features = model.predict(x, verbose=0)\n",
    "        features_list.append(features)\n",
    "    features_array = np.vstack(features_list)\n",
    "    return features_array"
   ]
  },
  {
   "cell_type": "code",
   "execution_count": 10,
   "id": "e6bb2eae-b151-4440-8e4e-341bd9233726",
   "metadata": {},
   "outputs": [
    {
     "name": "stderr",
     "output_type": "stream",
     "text": [
      "100%|████████████████████████████████████████████████████████████████████████████████| 357/357 [06:23<00:00,  1.07s/it]\n",
      "100%|██████████████████████████████████████████████████████████████████████████████████| 82/82 [01:28<00:00,  1.08s/it]\n"
     ]
    }
   ],
   "source": [
    "X_train = extract_features_batchwise(model, train_gen)\n",
    "X_test = extract_features_batchwise(model, test_gen)"
   ]
  },
  {
   "cell_type": "code",
   "execution_count": 11,
   "id": "21926953-c65d-40c1-8e5e-07d0557d7aae",
   "metadata": {},
   "outputs": [],
   "source": [
    "X_train = X_train.reshape(X_train.shape[0], -1)\n",
    "X_test = X_test.reshape(X_test.shape[0], -1)"
   ]
  },
  {
   "cell_type": "code",
   "execution_count": 13,
   "id": "0c089631-587c-4a52-8d35-139ce54328f4",
   "metadata": {},
   "outputs": [
    {
     "name": "stdout",
     "output_type": "stream",
     "text": [
      "(5712, 51200)\n",
      "(1311, 51200)\n"
     ]
    }
   ],
   "source": [
    "print(X_train.shape)\n",
    "print(X_test.shape)"
   ]
  },
  {
   "cell_type": "code",
   "execution_count": 14,
   "id": "c974600e-9d15-42bf-a330-db2333bf7855",
   "metadata": {},
   "outputs": [],
   "source": [
    "pca = PCA(n_components=500)\n",
    "X_train_pca = pca.fit_transform(X_train)\n",
    "X_test_pca = pca.transform(X_test)"
   ]
  },
  {
   "cell_type": "code",
   "execution_count": 15,
   "id": "15c5ae44-b3fb-4da8-98a6-eefa9bf65c6b",
   "metadata": {},
   "outputs": [],
   "source": [
    "y_train = train_gen.classes\n",
    "y_test = test_gen.classes"
   ]
  },
  {
   "cell_type": "code",
   "execution_count": 16,
   "id": "485e4870-fa66-4d9e-a6b8-8f8abdaf42b9",
   "metadata": {},
   "outputs": [],
   "source": [
    "svm = SVC(kernel='rbf', C=1, gamma='scale')\n",
    "svm.fit(X_train_pca, y_train)\n",
    "y_pred = svm.predict(X_test_pca)"
   ]
  },
  {
   "cell_type": "code",
   "execution_count": 17,
   "id": "1d9bdd6a-4e39-465c-90fc-5f0fa1c2cafe",
   "metadata": {},
   "outputs": [
    {
     "name": "stdout",
     "output_type": "stream",
     "text": [
      "accuracy: 0.9366895499618612\n",
      "precision: 0.9344499930739902\n",
      "recall: 0.9319389978213507\n",
      "f1_score: 0.9322675544649779\n"
     ]
    }
   ],
   "source": [
    "print('accuracy:',accuracy_score(y_test, y_pred))\n",
    "print('precision:',precision_score(y_test, y_pred, average='macro'))\n",
    "print('recall:',recall_score(y_test, y_pred, average='macro'))\n",
    "print('f1_score:',f1_score(y_test, y_pred, average='macro')) "
   ]
  },
  {
   "cell_type": "code",
   "execution_count": 18,
   "id": "055deda1-2588-4796-add7-fb4e88c6d1bb",
   "metadata": {},
   "outputs": [],
   "source": [
    "from sklearn.ensemble import RandomForestClassifier\n",
    "from sklearn.linear_model import LogisticRegression\n",
    "import xgboost as xgb\n",
    "from sklearn.neighbors import KNeighborsClassifier"
   ]
  },
  {
   "cell_type": "code",
   "execution_count": 19,
   "id": "834aa9c8-e500-453a-bcc9-7b833405fa8a",
   "metadata": {},
   "outputs": [],
   "source": [
    "rf = RandomForestClassifier(n_estimators=200, random_state=42)\n",
    "rf.fit(X_train_pca, y_train)\n",
    "y_pred_rf = rf.predict(X_test_pca)"
   ]
  },
  {
   "cell_type": "code",
   "execution_count": 20,
   "id": "e5aa0c7f-42c6-44e3-8fa1-c75cad945c47",
   "metadata": {},
   "outputs": [
    {
     "name": "stdout",
     "output_type": "stream",
     "text": [
      "accuracy: 0.9016018306636155\n",
      "precision: 0.8950431470680233\n",
      "recall: 0.8936274509803921\n",
      "f1_score: 0.8925326824553882\n"
     ]
    }
   ],
   "source": [
    "print('accuracy:',accuracy_score(y_test, y_pred_rf))\n",
    "print('precision:',precision_score(y_test, y_pred_rf, average='macro'))\n",
    "print('recall:',recall_score(y_test, y_pred_rf, average='macro'))\n",
    "print('f1_score:',f1_score(y_test, y_pred_rf, average='macro'))"
   ]
  },
  {
   "cell_type": "code",
   "execution_count": 21,
   "id": "da2821f5-ed07-4931-8215-3de1773f89ad",
   "metadata": {},
   "outputs": [
    {
     "name": "stderr",
     "output_type": "stream",
     "text": [
      "D:\\python\\Lib\\site-packages\\sklearn\\linear_model\\_logistic.py:1272: FutureWarning: 'multi_class' was deprecated in version 1.5 and will be removed in 1.8. From then on, it will always use 'multinomial'. Leave it to its default value to avoid this warning.\n",
      "  warnings.warn(\n"
     ]
    }
   ],
   "source": [
    "lr = LogisticRegression(max_iter=1000, multi_class='multinomial')\n",
    "lr.fit(X_train_pca, y_train)\n",
    "y_pred_lr = lr.predict(X_test_pca)"
   ]
  },
  {
   "cell_type": "code",
   "execution_count": 22,
   "id": "99275d90-6b6e-4c4f-a796-b661eea4959a",
   "metadata": {},
   "outputs": [
    {
     "name": "stdout",
     "output_type": "stream",
     "text": [
      "accuracy: 0.9260106788710908\n",
      "precision: 0.920355269904553\n",
      "recall: 0.9200526506899055\n",
      "f1_score: 0.919960312822075\n"
     ]
    }
   ],
   "source": [
    "print('accuracy:',accuracy_score(y_test, y_pred_lr))\n",
    "print('precision:',precision_score(y_test, y_pred_lr, average='macro'))\n",
    "print('recall:',recall_score(y_test, y_pred_lr, average='macro'))\n",
    "print('f1_score:',f1_score(y_test, y_pred_lr, average='macro'))"
   ]
  },
  {
   "cell_type": "code",
   "execution_count": 23,
   "id": "a53fe143-6f5c-4b4b-be89-2d3d960eaf6b",
   "metadata": {},
   "outputs": [],
   "source": [
    "xgb_clf = xgb.XGBClassifier(objective='multi:softmax', num_class=4, eval_metric='mlogloss')\n",
    "xgb_clf.fit(X_train_pca, y_train)\n",
    "y_pred_xgb = xgb_clf.predict(X_test_pca)"
   ]
  },
  {
   "cell_type": "code",
   "execution_count": 24,
   "id": "3c34cf91-7224-4de2-b7f8-3b39b0ca5ae5",
   "metadata": {},
   "outputs": [
    {
     "name": "stdout",
     "output_type": "stream",
     "text": [
      "accuracy: 0.9107551487414187\n",
      "precision: 0.9045803720735786\n",
      "recall: 0.9033986928104575\n",
      "f1_score: 0.90329879230067\n"
     ]
    }
   ],
   "source": [
    "print('accuracy:',accuracy_score(y_test, y_pred_xgb))\n",
    "print('precision:',precision_score(y_test, y_pred_xgb, average='macro'))\n",
    "print('recall:',recall_score(y_test, y_pred_xgb, average='macro'))\n",
    "print('f1_score:',f1_score(y_test, y_pred_xgb, average='macro'))"
   ]
  },
  {
   "cell_type": "code",
   "execution_count": 25,
   "id": "50376228-80d3-4a69-8f35-1c965ba0b124",
   "metadata": {},
   "outputs": [],
   "source": [
    "knn = KNeighborsClassifier(n_neighbors=5)\n",
    "knn.fit(X_train_pca, y_train)\n",
    "y_pred_knn = knn.predict(X_test_pca)"
   ]
  },
  {
   "cell_type": "code",
   "execution_count": 26,
   "id": "60c7d5c5-a6fc-4fe2-bbf4-d73b7da745fe",
   "metadata": {},
   "outputs": [
    {
     "name": "stdout",
     "output_type": "stream",
     "text": [
      "accuracy: 0.9023646071700991\n",
      "precision: 0.8961764095205055\n",
      "recall: 0.8965196078431372\n",
      "f1_score: 0.8952196545671025\n"
     ]
    }
   ],
   "source": [
    "print('accuracy:',accuracy_score(y_test, y_pred_knn))\n",
    "print('precision:',precision_score(y_test, y_pred_knn, average='macro'))\n",
    "print('recall:',recall_score(y_test, y_pred_knn, average='macro'))\n",
    "print('f1_score:',f1_score(y_test, y_pred_knn, average='macro'))"
   ]
  },
  {
   "cell_type": "code",
   "execution_count": 27,
   "id": "ce358bd9-d11c-4557-8550-4b77d5845417",
   "metadata": {},
   "outputs": [
    {
     "name": "stdout",
     "output_type": "stream",
     "text": [
      "[LightGBM] [Info] Auto-choosing col-wise multi-threading, the overhead of testing was 0.044448 seconds.\n",
      "You can set `force_col_wise=true` to remove the overhead.\n",
      "[LightGBM] [Info] Total Bins 127500\n",
      "[LightGBM] [Info] Number of data points in the train set: 5712, number of used features: 500\n",
      "[LightGBM] [Info] Start training from score -1.464180\n",
      "[LightGBM] [Info] Start training from score -1.450646\n",
      "[LightGBM] [Info] Start training from score -1.275695\n",
      "[LightGBM] [Info] Start training from score -1.366190\n"
     ]
    },
    {
     "name": "stderr",
     "output_type": "stream",
     "text": [
      "D:\\python\\Lib\\site-packages\\sklearn\\utils\\validation.py:2749: UserWarning: X does not have valid feature names, but LGBMClassifier was fitted with feature names\n",
      "  warnings.warn(\n"
     ]
    }
   ],
   "source": [
    "import lightgbm as lgb\n",
    "lgb_clf = lgb.LGBMClassifier(objective='multiclass', num_class=4)\n",
    "lgb_clf.fit(X_train_pca, y_train)\n",
    "y_pred_light = lgb_clf.predict(X_test_pca)"
   ]
  },
  {
   "cell_type": "code",
   "execution_count": 28,
   "id": "a175d5a2-79ba-489c-b23e-9ce294a85cb9",
   "metadata": {},
   "outputs": [
    {
     "name": "stdout",
     "output_type": "stream",
     "text": [
      "accuracy: 0.916094584286804\n",
      "precision: 0.9098860005756961\n",
      "recall: 0.9091013071895424\n",
      "f1_score: 0.90922265084153\n"
     ]
    }
   ],
   "source": [
    "print('accuracy:',accuracy_score(y_test, y_pred_light))\n",
    "print('precision:',precision_score(y_test, y_pred_light, average='macro'))\n",
    "print('recall:',recall_score(y_test, y_pred_light, average='macro'))\n",
    "print('f1_score:',f1_score(y_test, y_pred_light, average='macro'))"
   ]
  },
  {
   "cell_type": "code",
   "execution_count": null,
   "id": "c2cbde32-0948-4f88-a8a2-9c77b7f7babd",
   "metadata": {},
   "outputs": [],
   "source": []
  }
 ],
 "metadata": {
  "kernelspec": {
   "display_name": "Python 3 (ipykernel)",
   "language": "python",
   "name": "python3"
  },
  "language_info": {
   "codemirror_mode": {
    "name": "ipython",
    "version": 3
   },
   "file_extension": ".py",
   "mimetype": "text/x-python",
   "name": "python",
   "nbconvert_exporter": "python",
   "pygments_lexer": "ipython3",
   "version": "3.11.0"
  }
 },
 "nbformat": 4,
 "nbformat_minor": 5
}
